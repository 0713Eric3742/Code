{
  "nbformat": 4,
  "nbformat_minor": 0,
  "metadata": {
    "kernelspec": {
      "display_name": "Python 3.8.5 64-bit",
      "language": "python",
      "name": "python_defaultSpec_1598262002845"
    },
    "language_info": {
      "codemirror_mode": {
        "name": "ipython",
        "version": 3
      },
      "file_extension": ".py",
      "mimetype": "text/x-python",
      "name": "python",
      "nbconvert_exporter": "python",
      "pygments_lexer": "ipython3",
      "version": "3.8.5-final"
    },
    "colab": {
      "name": "Copy_of_1_chap_3_4_new_Titanic_Decision_tree_Kenny0807.ipynb",
      "provenance": [],
      "collapsed_sections": []
    }
  },
  "cells": [
    {
      "cell_type": "markdown",
      "metadata": {
        "id": "5xCpt5hb6Rxx",
        "colab_type": "text"
      },
      "source": [
        "<p align=\"center\" ><img src=\"https://www.ai4kids.ai/wp-content/uploads/2019/07/ai4kids_website_logo_120x40.png\"></img></p>\n",
        "\n",
        "# 學AI真簡單 <1> 初探機器學習\n",
        "## 第三章 3-4 傑克與蘿絲誰的生存機率高—決策樹分類器介紹與應用\n",
        "\n",
        "\n",
        "\n",
        "<p align=\"right\">© Copyright AI4kids.ai</p>"
      ]
    },
    {
      "cell_type": "markdown",
      "metadata": {
        "id": "VjfBlgHY0WRF",
        "colab_type": "text"
      },
      "source": [
        "## 首先運行下面的程序，下載train.csv"
      ]
    },
    {
      "cell_type": "code",
      "metadata": {
        "id": "RQ5X2O8a2RJs",
        "colab_type": "code",
        "colab": {
          "base_uri": "https://localhost:8080/",
          "height": 326
        },
        "outputId": "4e2c1986-4d39-4d55-fc7a-2cac5ddf34a7"
      },
      "source": [
        "import os\n",
        "if not os.path.exists('train.csv'):\n",
        "    !wget --no-check-certificate \"https://drive.google.com/uc?export=download&id=13bGRvk1Vq9tFRzMWsXZwOg7TzZLQj83O\" -O 'train.csv'"
      ],
      "execution_count": null,
      "outputs": []
    },
    {
      "cell_type": "markdown",
      "metadata": {
        "id": "pdeoIgHg-9VC",
        "colab_type": "text"
      },
      "source": [
        "### 資料清理"
      ]
    },
    {
      "cell_type": "code",
      "metadata": {
        "id": "6Bhf0i4F_Nl0",
        "colab_type": "code",
        "colab": {
          "base_uri": "https://localhost:8080/",
          "height": 419
        },
        "outputId": "1dbf8450-29f8-4ad4-a1b2-1dd369fd0766"
      },
      "source": [
        "from sklearn import tree\n",
        "import numpy as np\n",
        "import pandas as pd\n",
        "\n",
        "data = pd.read_csv('train.csv')\n",
        "data = data.drop(columns=['Name', 'Ticket', 'Cabin'])\n",
        "data\n"
      ],
      "execution_count": null,
      "outputs": []
    },
    {
      "cell_type": "markdown",
      "metadata": {
        "id": "ZhrCjAmT_B6r",
        "colab_type": "text"
      },
      "source": [
        "### 資料轉換"
      ]
    },
    {
      "cell_type": "code",
      "metadata": {
        "id": "tINrrvn3vphM",
        "colab_type": "code",
        "colab": {
          "base_uri": "https://localhost:8080/",
          "height": 521
        },
        "outputId": "c722442d-721b-4d62-c254-8a14154edaff"
      },
      "source": [
        "# 轉換Embarked欄位\n",
        "typeEmbarked = list(set(data['Embarked']))\n",
        "\n",
        "# 把Embarked欄位的文字按順序轉換成0~n的數字\n",
        "for i in range(len(typeEmbarked)):\n",
        "    print(typeEmbarked[i])\n",
        "    row =  data['Embarked'] == typeEmbarked[i]\n",
        "    data.loc[row, 'Embarked'] = i\n",
        "\n",
        "# 轉換Sex欄位\n",
        "typeSex = list(set(data['Sex']))\n",
        "\n",
        "# 把Sex欄位的文字按順序轉換成0~n的數字\n",
        "for i in range(len(typeSex)):\n",
        "    print(typeSex[i])\n",
        "    rows =  data['Sex'] == typeSex[i]\n",
        "    data.loc[rows, 'Sex'] = i\n",
        "    \n",
        "data"
      ],
      "execution_count": null,
      "outputs": []
    },
    {
      "cell_type": "markdown",
      "metadata": {
        "id": "Pg58H5Lm5reH",
        "colab_type": "text"
      },
      "source": [
        "鐵達尼資料集 - 進行分析1"
      ]
    },
    {
      "cell_type": "markdown",
      "metadata": {
        "id": "LAN1JQHN-GOc",
        "colab_type": "text"
      },
      "source": [
        "Step 1.資料集中，取出最後有存活的資料集 data_sur"
      ]
    },
    {
      "cell_type": "code",
      "metadata": {
        "id": "bqaOOmA6ygAO",
        "colab_type": "code",
        "colab": {}
      },
      "source": [
        "data_sur = data[data['Survived']==1]"
      ],
      "execution_count": null,
      "outputs": []
    },
    {
      "cell_type": "markdown",
      "metadata": {
        "id": "qJHFm6jM-Wvc",
        "colab_type": "text"
      },
      "source": [
        "Step 2. 存活且為男性的資料集male，存活且為女性的資料集female"
      ]
    },
    {
      "cell_type": "code",
      "metadata": {
        "id": "wPb7gsVsy52D",
        "colab_type": "code",
        "colab": {}
      },
      "source": [
        "df_male = data_sur[data_sur['Sex']==0]\n",
        "df_female = data_sur[data_sur['Sex']==1]"
      ],
      "execution_count": null,
      "outputs": []
    },
    {
      "cell_type": "markdown",
      "metadata": {
        "id": "_m3LES8_Awjo",
        "colab_type": "text"
      },
      "source": [
        "Step 3. pandas內建的 plot.bar() 畫出柱狀圖來分析"
      ]
    },
    {
      "cell_type": "code",
      "metadata": {
        "id": "C1QKsM8q47y8",
        "colab_type": "code",
        "colab": {
          "base_uri": "https://localhost:8080/",
          "height": 279
        },
        "outputId": "cb6168d0-f662-416e-f604-f9960586facd"
      },
      "source": [
        "df = pd.DataFrame({'Sex':['Male', 'Female'], 'val':[len(df_male), len(df_female)]})\n",
        "ax = df.plot.bar(x='Sex', y='val', rot=0)"
      ],
      "execution_count": null,
      "outputs": []
    },
    {
      "cell_type": "markdown",
      "metadata": {
        "id": "CGXfPgpQA4y1",
        "colab_type": "text"
      },
      "source": [
        "鐵達尼資料集 - 進行分析2"
      ]
    },
    {
      "cell_type": "markdown",
      "metadata": {
        "id": "SIdfiQr-BBdw",
        "colab_type": "text"
      },
      "source": [
        "那麼年輕人和中年人的存活比率是如何呢？\n",
        "先取出資料集內存活並且小於30歲的資料集 df_young, 和存活並大於30歲的資料集 df_older"
      ]
    },
    {
      "cell_type": "code",
      "metadata": {
        "id": "mrlMYg_OES5b",
        "colab_type": "code",
        "colab": {}
      },
      "source": [
        "df_young = data_sur[data_sur['Age'] < 30]\n",
        "df_older = data_sur[data_sur['Age'] > 30]"
      ],
      "execution_count": null,
      "outputs": []
    },
    {
      "cell_type": "code",
      "metadata": {
        "id": "NKNeNpz6Ema4",
        "colab_type": "code",
        "colab": {
          "base_uri": "https://localhost:8080/",
          "height": 279
        },
        "outputId": "91e2da51-c226-48ac-fcfb-3d1a830f79af"
      },
      "source": [
        "#畫出柱狀圖觀察\n",
        "df = pd.DataFrame({'Age':['young', 'older'], 'val':[len(df_young), len(df_older)]})\n",
        "ax = df.plot.bar(x='Age', y='val', rot=0)"
      ],
      "execution_count": null,
      "outputs": []
    },
    {
      "cell_type": "code",
      "metadata": {
        "id": "3-5CLbkLt3au",
        "colab_type": "code",
        "colab": {
          "base_uri": "https://localhost:8080/",
          "height": 419
        },
        "outputId": "26cc5f12-13fd-44c8-8ce3-07c26e3c6a05"
      },
      "source": [
        "data"
      ],
      "execution_count": null,
      "outputs": []
    },
    {
      "cell_type": "markdown",
      "metadata": {
        "id": "1cDmTTRUvphT",
        "colab_type": "text"
      },
      "source": [
        "### 缺失值處理\n",
        "在前面的章節應該有提過缺失值的處理，缺失值的存在會讓模型無法訓練，而我們因為資料很少，所以用補值的方式。"
      ]
    },
    {
      "cell_type": "code",
      "metadata": {
        "id": "3PuJt3NEvphT",
        "colab_type": "code",
        "colab": {}
      },
      "source": [
        "# fillna(999)會讓所有缺失值都被補成999，之所以選999是因為不認為資料集的任何欄位中有999這個數字。\n",
        "data = data.fillna(999)"
      ],
      "execution_count": null,
      "outputs": []
    },
    {
      "cell_type": "code",
      "metadata": {
        "id": "heVe5vGWs9a-",
        "colab_type": "code",
        "colab": {
          "base_uri": "https://localhost:8080/",
          "height": 419
        },
        "outputId": "408255ab-dd77-455a-b50c-5a90f4c4583b"
      },
      "source": [
        "data"
      ],
      "execution_count": null,
      "outputs": []
    },
    {
      "cell_type": "markdown",
      "metadata": {
        "id": "GKAZVX_UvphZ",
        "colab_type": "text"
      },
      "source": [
        "### 分割資料並訓練模型\n",
        "接下來我們把前750筆資料當作訓練資料`X_train`，750筆之後的則當作測試資料。並且把`Survived`作為`y_train`從訓練資料中獨立出來。\n",
        "\n",
        "我們使用決策樹 DecisionTreeClassifier() 來進行訓練。"
      ]
    },
    {
      "cell_type": "code",
      "metadata": {
        "id": "A5KkT2jNvphb",
        "colab_type": "code",
        "colab": {}
      },
      "source": [
        "# 分割資料\n",
        "X_train = data[:750]\n",
        "X_test = data[750:]\n",
        "\n",
        "# 把`Survived`作為`y_train`從訓練資料中獨立出來。\n",
        "y_train = X_train.pop('Survived')\n",
        "\n",
        "# 建立並訓練(fit)決策樹\n",
        "clf = tree.DecisionTreeClassifier() \n",
        "clf = clf.fit(X_train, y_train)"
      ],
      "execution_count": null,
      "outputs": []
    },
    {
      "cell_type": "markdown",
      "metadata": {
        "id": "Xp0anDvmvphf",
        "colab_type": "text"
      },
      "source": [
        "### 評估模型正確率\n",
        "最後我們想要知道模型的準確率到底有多好，這裡我們選擇了Accuracy和Recall兩個metric(指標)來評估\n",
        "- Accuracy代表正確率，也就是模型每一次預測的準確度。\n",
        "- Recall則是召回率，代表模型是否能把資料集中沒能獲救的人都找出來。"
      ]
    },
    {
      "cell_type": "code",
      "metadata": {
        "id": "gj7A_mx0vphg",
        "colab_type": "code",
        "colab": {
          "base_uri": "https://localhost:8080/",
          "height": 51
        },
        "outputId": "14ac10e1-0d67-4d53-a9b8-af650ada5732"
      },
      "source": [
        "from sklearn.metrics import accuracy_score, recall_score\n",
        "\n",
        "# 從測試資料集取出y值作為真實答案\n",
        "y_test = X_test.pop('Survived')\n",
        "\n",
        "# 進行預測，取得預測答案\n",
        "y_pred = clf.predict(X_test) \n",
        "\n",
        "print('accuracy_score=',accuracy_score(y_test, y_pred))\n",
        "print('recall_score=',recall_score(y_test, y_pred))\n"
      ],
      "execution_count": null,
      "outputs": []
    },
    {
      "cell_type": "code",
      "metadata": {
        "id": "aRGWywtxxJgI",
        "colab_type": "code",
        "colab": {}
      },
      "source": [
        "# 我們現在來用這個已經訓練好的model -> clf 來玩玩預測的結果\n",
        "# 首先我們要再將一個用不到的欄位拿掉\n",
        "\n",
        "data = data.drop(columns=['PassengerId'])"
      ],
      "execution_count": null,
      "outputs": []
    },
    {
      "cell_type": "code",
      "metadata": {
        "id": "c3YJcWpEyvmR",
        "colab_type": "code",
        "colab": {
          "base_uri": "https://localhost:8080/",
          "height": 359
        },
        "outputId": "c2582036-36d9-414e-981d-feedc7126261"
      },
      "source": [
        "data[:10]"
      ],
      "execution_count": null,
      "outputs": []
    },
    {
      "cell_type": "code",
      "metadata": {
        "id": "kZvo0ivFyQrl",
        "colab_type": "code",
        "colab": {}
      },
      "source": [
        "# 並且再fit 一次model\n",
        "# 分割資料\n",
        "\n",
        "X_train = data[:750]\n",
        "X_test = data[750:]\n",
        "\n",
        "# 把`Survived`作為`y_train`從訓練資料中獨立出來。\n",
        "\n",
        "y_train = X_train.pop('Survived')\n",
        "\n",
        "# 建立並訓練(fit)決策樹\n",
        "\n",
        "clf = tree.DecisionTreeClassifier() \n",
        "clf = clf.fit(X_train, y_train)"
      ],
      "execution_count": null,
      "outputs": []
    },
    {
      "cell_type": "markdown",
      "metadata": {
        "id": "tLdV8ZcBu0UH",
        "colab_type": "text"
      },
      "source": [
        "我們來玩玩這個預測模型吧!\n"
      ]
    },
    {
      "cell_type": "code",
      "metadata": {
        "id": "v7FJDZ0H6upF",
        "colab_type": "code",
        "colab": {
          "base_uri": "https://localhost:8080/",
          "height": 34
        },
        "outputId": "b7fa3b1c-d9cc-4bed-ed8f-7ec1c465ea7e"
      },
      "source": [
        "\n",
        "\n",
        "# my_survival =[[Pclass, Sex, Age, Sibsp, Parch, Fare, Embarked]]\n",
        "\n",
        "my_survival = [[2,0,20,3, 1,900, 0]]\n",
        "\n",
        "pred = clf.predict(my_survival)\n",
        "\n",
        "if pred == 0:\n",
        "    print('Oh no! You did not survive')\n",
        "else:\n",
        "    print('Nice! You survived')"
      ],
      "execution_count": null,
      "outputs": []
    }
  ]
}