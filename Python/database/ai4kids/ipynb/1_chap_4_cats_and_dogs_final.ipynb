{
  "nbformat": 4,
  "nbformat_minor": 0,
  "metadata": {
    "kernelspec": {
      "name": "python_defaultSpec_1598262015130",
      "display_name": "Python 3.8.5 64-bit"
    },
    "colab": {
      "name": "Copy of chap_4_cats_and_dogs(c)-final.ipynb",
      "provenance": [],
      "collapsed_sections": []
    },
    "accelerator": "GPU"
  },
  "cells": [
    {
      "cell_type": "markdown",
      "metadata": {
        "colab_type": "text",
        "id": "ezp3e6Wr3a7F"
      },
      "source": [
        "<p align=\"center\" ><img src=\"https://www.ai4kids.ai/wp-content/uploads/2019/07/ai4kids_website_logo_120x40.png\"></img></p>\n",
        "\n",
        "# AI 專題實作：貓狗辨識\n",
        "\n",
        "貓狗辨識專題使用的是 **限時塗鴉 (Quick, Draw!)** 提供的貓與狗資料集。官方提供 4 種不同的資料格式，在本專題實作中將使用的是 NumPy 陣列 (npy)。\n",
        "\n",
        "- 資料集說明可以參考官方 GitHub：[The Quick, Draw! Dataset](https://github.com/googlecreativelab/quickdraw-dataset)\n",
        "\n",
        "- 限時塗鴉體驗網站：[https://quickdraw.withgoogle.com/](https://quickdraw.withgoogle.com/)\n",
        "\n",
        "<p align=\"right\">© Copyright AI4kids.ai</p>"
      ]
    },
    {
      "cell_type": "markdown",
      "metadata": {
        "id": "c1hiXxiQ8VNp",
        "colab_type": "text"
      },
      "source": [
        "## 1. 環境準備\n",
        "\n",
        "執行下列 Cell 載入專題需要使用的套件。\n",
        "* **tensorflow**：Google 團隊開發的機器學習框架套件，可用以開發各種感知和語言理解任務的機器學習。\n",
        "* **numpy**：一個 Python 的擴充套件，支援高階維度的陣列與矩陣運算。\n",
        "* **pandas**：一個資料分析套件，提供高效、簡易的資料格式(Data Frame)讓開發者可以快速操作與分析資料。 \n",
        "* **matplotlib.pyplot**：繪圖套件包。\n",
        "* **train_test_split**：是 Scikit-Learn 套件中的一個函式，可用以對資料集進行切分，例如 67% 作為訓練使用，33% 作為測試使用。\n"
      ]
    },
    {
      "cell_type": "code",
      "metadata": {
        "id": "fIv2oACHQQ0H",
        "colab_type": "code",
        "colab": {}
      },
      "source": [
        "import tensorflow as tf\n",
        "import numpy as np\n",
        "import pandas as pd\n",
        "import matplotlib.pyplot as plt\n",
        "from sklearn.model_selection import train_test_split\n"
      ],
      "execution_count": null,
      "outputs": []
    },
    {
      "cell_type": "markdown",
      "metadata": {
        "id": "_pD9s1dN6Uj_",
        "colab_type": "text"
      },
      "source": [
        "## 2. 下載資料集\n",
        "\n",
        "Google 將開放的限時塗鴉資料集存放在 Google Cloud Platform 的 Storage，從網址 [https://console.cloud.google.com/storage/browser/quickdraw_dataset/full](https://console.cloud.google.com/storage/browser/quickdraw_dataset/full)   \n",
        "可以瀏覽所有資料集。  \n",
        "\n",
        "在專題中，執行下列指令直接下載，並儲存在 Colab 中。  \n",
        "\n",
        "<img src=\"https://i.imgur.com/2Vjth88.png\" width=\"300\">\n"
      ]
    },
    {
      "cell_type": "code",
      "metadata": {
        "id": "Oj-3VUhlQQ0M",
        "colab_type": "code",
        "colab": {
          "base_uri": "https://localhost:8080/",
          "height": 35
        },
        "outputId": "f446a35b-2de8-4133-a0ba-49a8f095ac6c"
      },
      "source": [
        "import urllib.request\n",
        "\n",
        "urllib.request.urlretrieve('https://storage.googleapis.com/quickdraw_dataset/full/numpy_bitmap/cat.npy', 'cat.npy')\n",
        "urllib.request.urlretrieve('https://storage.googleapis.com/quickdraw_dataset/full/numpy_bitmap/dog.npy', 'dog.npy')"
      ],
      "execution_count": null,
      "outputs": []
    },
    {
      "cell_type": "markdown",
      "metadata": {
        "id": "jKCWXEUlD_uK",
        "colab_type": "text"
      },
      "source": [
        "瀏覽已下載檔案"
      ]
    },
    {
      "cell_type": "code",
      "metadata": {
        "id": "fWrX4dI4DYwp",
        "colab_type": "code",
        "colab": {
          "base_uri": "https://localhost:8080/",
          "height": 87
        },
        "outputId": "0c6091ca-1c89-4969-bd09-2312d9820021"
      },
      "source": [
        "!ls -l"
      ],
      "execution_count": null,
      "outputs": []
    },
    {
      "cell_type": "markdown",
      "metadata": {
        "id": "AEHxMbNx-LYB",
        "colab_type": "text"
      },
      "source": [
        "## 3. 載入資料集與資料預處理"
      ]
    },
    {
      "cell_type": "markdown",
      "metadata": {
        "id": "JJexUs0FB-YN",
        "colab_type": "text"
      },
      "source": [
        "將貓、狗的資料集載入至 NumPy 陣列。"
      ]
    },
    {
      "cell_type": "code",
      "metadata": {
        "id": "ciY79ni2QQ0V",
        "colab_type": "code",
        "colab": {}
      },
      "source": [
        "#dog = np.load('dog.npy',encoding='bytes', allow_pickle=True)\n",
        "#cat = np.load('cat.npy',encoding='bytes', allow_pickle=True)\n",
        "\n",
        "dog = np.load('dog.npy')\n",
        "cat = np.load('cat.npy')\n"
      ],
      "execution_count": null,
      "outputs": []
    },
    {
      "cell_type": "markdown",
      "metadata": {
        "id": "rkOBIikR-06x",
        "colab_type": "text"
      },
      "source": [
        "載入後資料型別為 NumPy 陣列，查看 `shape` 屬性可以看到 dog 與 cat 分別有 152159 與 123202 筆資料 (也就是有 152159 與 123202 張圖片)。\n",
        "\n",
        "原始圖片的大小為 28x28，在資料集中將其攤平為一維的維度，所以每筆共有 784 個資料點。"
      ]
    },
    {
      "cell_type": "code",
      "metadata": {
        "id": "NjoHiMVROy1k",
        "colab_type": "code",
        "colab": {
          "base_uri": "https://localhost:8080/",
          "height": 139
        },
        "outputId": "1efea4e4-c7fd-47be-fc2b-2bdd42a50dbd"
      },
      "source": [
        "dog"
      ],
      "execution_count": null,
      "outputs": []
    },
    {
      "cell_type": "code",
      "metadata": {
        "id": "Du2me526QQ0X",
        "colab_type": "code",
        "colab": {
          "base_uri": "https://localhost:8080/",
          "height": 35
        },
        "outputId": "f511f256-4486-48c1-f75b-0e56410623a7"
      },
      "source": [
        "dog.shape"
      ],
      "execution_count": null,
      "outputs": []
    },
    {
      "cell_type": "code",
      "metadata": {
        "id": "3mukX1V3O1yE",
        "colab_type": "code",
        "colab": {
          "base_uri": "https://localhost:8080/",
          "height": 1000
        },
        "outputId": "c24dc1fe-caa8-465d-88ba-6dc41f3479bf"
      },
      "source": [
        "dog[0]"
      ],
      "execution_count": null,
      "outputs": []
    },
    {
      "cell_type": "code",
      "metadata": {
        "id": "72vpKlqYRXJR",
        "colab_type": "code",
        "colab": {
          "base_uri": "https://localhost:8080/",
          "height": 35
        },
        "outputId": "e890b56d-3689-48f1-a17f-0745dedd7353"
      },
      "source": [
        "cat.shape"
      ],
      "execution_count": null,
      "outputs": []
    },
    {
      "cell_type": "markdown",
      "metadata": {
        "id": "pFZdVwfXBOzK",
        "colab_type": "text"
      },
      "source": [
        "使用 Matplotlib 來將陣列資料顯示為原始圖檔，在顯示之前先將資料點維度回復成為二維 28x28 的陣列。\n",
        "\n",
        "可以看到原始圖檔如下。"
      ]
    },
    {
      "cell_type": "code",
      "metadata": {
        "id": "KWHmUVaOQQ0a",
        "colab_type": "code",
        "colab": {
          "base_uri": "https://localhost:8080/",
          "height": 146
        },
        "outputId": "318fcad5-0aa0-4aa5-8928-63bb047ad07d"
      },
      "source": [
        "fig=plt.figure(figsize=(10, 10))\n",
        "columns = 5\n",
        "rows = 1\n",
        "\n",
        "for i in range(1, columns * rows + 1):\n",
        "    \n",
        "    img = dog[i].reshape(28,28)\n",
        "    \n",
        "    fig.add_subplot(rows, columns, i)\n",
        "    plt.imshow(img)\n",
        "#    plt.imshow(img, cmap='gray')\n",
        "\n",
        "plt.show()"
      ],
      "execution_count": null,
      "outputs": []
    },
    {
      "cell_type": "markdown",
      "metadata": {
        "id": "jj5KWinz-P4I",
        "colab_type": "text"
      },
      "source": [
        "PS：上圖資料集應該為灰階點陣圖，輸出成類似彩色的結果是因為`imshow()`指令預設為彩色，因此程式會嘗試將灰階圖映射至彩色，就成為上面顯示的`假色圖(Pseudocolor Image)`，\n",
        "可試試使用`plt.imshow(img, cmap='gray')`。"
      ]
    },
    {
      "cell_type": "markdown",
      "metadata": {
        "id": "rj4ixq24CNpk",
        "colab_type": "text"
      },
      "source": [
        "在專題中，我們僅取狗與貓資料的前 60000 筆來進行訓練及測試。"
      ]
    },
    {
      "cell_type": "code",
      "metadata": {
        "id": "8Fwv7odcQQ0e",
        "colab_type": "code",
        "colab": {}
      },
      "source": [
        "sample_size = 60000"
      ],
      "execution_count": null,
      "outputs": []
    },
    {
      "cell_type": "markdown",
      "metadata": {
        "id": "42iDp21ZGBg_",
        "colab_type": "text"
      },
      "source": [
        "將狗與貓資料合併，成為同一個輸入資料。   \n",
        "<img src=\"https://i.imgur.com/21NVDcV.png\" width=\"600\">"
      ]
    },
    {
      "cell_type": "code",
      "metadata": {
        "id": "gBhXX2-sEhCK",
        "colab_type": "code",
        "colab": {}
      },
      "source": [
        "X = np.concatenate((dog[:sample_size], cat[:sample_size]))"
      ],
      "execution_count": null,
      "outputs": []
    },
    {
      "cell_type": "markdown",
      "metadata": {
        "id": "ny5D2iFKIQnc",
        "colab_type": "text"
      },
      "source": [
        "將資料集資料重塑為原始圖檔的維度，並且將各個元素值除以 255.0 進行**正規化 (Normalization)**處理。   \n",
        "reshape() 方法中傳入 4 個參數，後半部的 (28, 28, 1) 表示轉換後的形狀要為 `28x28x1` 的陣列，最後一個參數代表的是圖片`通道數 (Channel)`，因圖片資料為灰階圖，因此設定為 1。   \n",
        "第一個參數-1，表示讓python**自動計算**此樣本維度。"
      ]
    },
    {
      "cell_type": "code",
      "metadata": {
        "id": "sZZBFOatEi5q",
        "colab_type": "code",
        "colab": {}
      },
      "source": [
        "X = X.reshape((-1,28,28,1))/255.0"
      ],
      "execution_count": null,
      "outputs": []
    },
    {
      "cell_type": "code",
      "metadata": {
        "id": "3_RMmQiixRoi",
        "colab_type": "code",
        "colab": {}
      },
      "source": [
        "#X = np.concatenate((dog[:sample_size], cat[:sample_size]))"
      ],
      "execution_count": null,
      "outputs": []
    },
    {
      "cell_type": "code",
      "metadata": {
        "id": "OHN3O_wbxT8I",
        "colab_type": "code",
        "colab": {}
      },
      "source": [
        "#X = X / 255.0\n",
        "#X = X.reshape(-1,28,28,1)"
      ],
      "execution_count": null,
      "outputs": []
    },
    {
      "cell_type": "code",
      "metadata": {
        "id": "9CsQDsKPRDpe",
        "colab_type": "code",
        "colab": {
          "base_uri": "https://localhost:8080/",
          "height": 35
        },
        "outputId": "9cac09b3-a73d-4214-8d36-5ec4274c5634"
      },
      "source": [
        "X.shape"
      ],
      "execution_count": null,
      "outputs": []
    },
    {
      "cell_type": "code",
      "metadata": {
        "id": "j0J-8aomQQ0j",
        "colab_type": "code",
        "colab": {}
      },
      "source": [
        "Y = np.zeros(2 * sample_size)"
      ],
      "execution_count": null,
      "outputs": []
    },
    {
      "cell_type": "code",
      "metadata": {
        "id": "HzsKSlsXEnBl",
        "colab_type": "code",
        "colab": {}
      },
      "source": [
        "Y[sample_size:] = 1.0"
      ],
      "execution_count": null,
      "outputs": []
    },
    {
      "cell_type": "markdown",
      "metadata": {
        "id": "J3l_3pncIYQr",
        "colab_type": "text"
      },
      "source": [
        "建立資料的類別標籤，狗的類別標籤為 0，貓的類別標籤為 1。\n",
        "<img src=\"https://i.imgur.com/250kw8W.png\" width=\"600\">"
      ]
    },
    {
      "cell_type": "code",
      "metadata": {
        "id": "36R-V2bSQnp2",
        "colab_type": "code",
        "colab": {
          "base_uri": "https://localhost:8080/",
          "height": 35
        },
        "outputId": "c368fed8-61b9-4489-d0d1-3c4ccc01d800"
      },
      "source": [
        "Y.shape"
      ],
      "execution_count": null,
      "outputs": []
    },
    {
      "cell_type": "markdown",
      "metadata": {
        "id": "zlfwVnIwI6jV",
        "colab_type": "text"
      },
      "source": [
        "在開始建立模型前，使用 Scikit-Learn 的 `train_test_split` 函式將 120000 筆資料順序隨機處理後，切分為訓練集和測試集。這邊設定的比例是訓練集 70%、測試集 30% 的切分比例。\n",
        "\n",
        "切分後回傳得到訓練集資料、訓練集類別標籤、測試集資料、測試集類別標籤。   \n",
        "\n",
        "* **X**和**Y**就是上面步驟準備好的原始資料，分別表示 dog、cat 合併後的輸入資料集，與各資料項對應的答案標籤 (Label)。 \n",
        "* **random_state**就是亂數種子，相同的亂數種子在不同 Cell 執行會有相同結果。若設定為零，就表示為隨機切分。 \n",
        "* **test_size**若設定為浮點數，表示測試資料要佔全部資料的多少百分比 ; 若設定為整數，表示為多少筆測試資料。 "
      ]
    },
    {
      "cell_type": "code",
      "metadata": {
        "id": "01hir8_OQQ0l",
        "colab_type": "code",
        "colab": {}
      },
      "source": [
        "train_x, test_x, train_y, test_y = train_test_split(X, Y, random_state=41, test_size=0.3)"
      ],
      "execution_count": null,
      "outputs": []
    },
    {
      "cell_type": "markdown",
      "metadata": {
        "id": "9lDYeRiemsAr",
        "colab_type": "text"
      },
      "source": [
        "<img src=\"https://i.imgur.com/WgOJpAr.png\" width=\"800\">"
      ]
    },
    {
      "cell_type": "markdown",
      "metadata": {
        "id": "4n42LLdJo5tU",
        "colab_type": "text"
      },
      "source": [
        "<img src=\"https://i.imgur.com/ADAPcaQ.png\" width=\"600\">"
      ]
    },
    {
      "cell_type": "code",
      "metadata": {
        "id": "997NLYRtQQ0o",
        "colab_type": "code",
        "colab": {
          "base_uri": "https://localhost:8080/",
          "height": 52
        },
        "outputId": "473b088e-0a34-4814-82c6-7221dbaf5586"
      },
      "source": [
        "print(train_x.shape)\n",
        "print(test_x.shape)"
      ],
      "execution_count": null,
      "outputs": []
    },
    {
      "cell_type": "markdown",
      "metadata": {
        "id": "z6J50tESLzio",
        "colab_type": "text"
      },
      "source": [
        "類別標籤轉換為 one hot 編碼 (encoding)"
      ]
    },
    {
      "cell_type": "markdown",
      "metadata": {
        "id": "bYARlVo1pRO9",
        "colab_type": "text"
      },
      "source": [
        "<img src=\"https://i.imgur.com/twjaBXn.png\" width=\"600\">"
      ]
    },
    {
      "cell_type": "code",
      "metadata": {
        "id": "enqv8t-p4SlA",
        "colab_type": "code",
        "colab": {
          "base_uri": "https://localhost:8080/",
          "height": 52
        },
        "outputId": "1bccdcb4-69b6-40c1-fc6a-c1c40ab8850a"
      },
      "source": [
        "print(f\"{train_y[0]} \\n{test_y[0]}\")"
      ],
      "execution_count": null,
      "outputs": []
    },
    {
      "cell_type": "code",
      "metadata": {
        "id": "fzvkoTF_QQ0r",
        "colab_type": "code",
        "colab": {}
      },
      "source": [
        "train_y = tf.keras.utils.to_categorical(train_y)\n",
        "test_y = tf.keras.utils.to_categorical(test_y)"
      ],
      "execution_count": null,
      "outputs": []
    },
    {
      "cell_type": "code",
      "metadata": {
        "id": "WS52ppse4Aks",
        "colab_type": "code",
        "colab": {
          "base_uri": "https://localhost:8080/",
          "height": 52
        },
        "outputId": "c81e5d3e-db3c-4c4e-df72-0443a76211c5"
      },
      "source": [
        "print(f\"{train_y[0]} \\n{test_y[0]}\")"
      ],
      "execution_count": null,
      "outputs": []
    },
    {
      "cell_type": "markdown",
      "metadata": {
        "id": "qTybUgnNQqvT",
        "colab_type": "text"
      },
      "source": [
        "## 4. 創建 CNN 類神經網路並訓練模型\n",
        "執行完資料集的前處理後，接著就可以利用**Keras**開始創建網路模型。Keras 是一個用 Python 開發的高階深度學習函式庫，透過此函式庫可以實作下面 步 驟：**定義 (Define)**、 **編譯 (Compile)**、 **訓練 (Fit)**、 **評估 (Evaluate)** 及**預測 (Prediction)** \n",
        "\n",
        "在訓練模型前，須先定義並編譯 (compile) 模型。\n",
        "\n",
        "下面定義了有 2 個卷積層 (`Conv2D()`)、2 個池化層 (`MaxPooling2D()`)、1 個平坦層 (`Flatten()`)、2 個全連接層 (`Dense()`) 的 CNN 網路。   \n",
        "\n",
        "**Convolution**與**Pooling**的運算機制請參考投影片內容。\n",
        " "
      ]
    },
    {
      "cell_type": "markdown",
      "metadata": {
        "id": "s8uiDiY-pycI",
        "colab_type": "text"
      },
      "source": [
        "<img src=\"https://i.imgur.com/9u0OHZJ.png\">"
      ]
    },
    {
      "cell_type": "code",
      "metadata": {
        "id": "MSE3-WiLQQ0y",
        "colab_type": "code",
        "colab": {}
      },
      "source": [
        "model = tf.keras.models.Sequential([\n",
        "  tf.keras.layers.Conv2D(filters=32, kernel_size=(3,3), input_shape=(28,28,1), activation='relu'), \n",
        "  tf.keras.layers.MaxPooling2D(2,2),\n",
        "  tf.keras.layers.Conv2D(64, (3,3), activation='relu'),\n",
        "  tf.keras.layers.MaxPooling2D(2,2),\n",
        "  tf.keras.layers.Flatten(), \n",
        "  tf.keras.layers.Dense(128, activation='relu'),\n",
        "  tf.keras.layers.Dense(2,activation='softmax')\n",
        "])"
      ],
      "execution_count": null,
      "outputs": []
    },
    {
      "cell_type": "markdown",
      "metadata": {
        "id": "8BHuQDnFqFvd",
        "colab_type": "text"
      },
      "source": [
        "下面指令，可輸出目前模型結構圖："
      ]
    },
    {
      "cell_type": "code",
      "metadata": {
        "id": "bZxKUgF3Q4jK",
        "colab_type": "code",
        "colab": {
          "base_uri": "https://localhost:8080/",
          "height": 71
        },
        "outputId": "d9cf6796-185e-428a-c3f5-a00352b8bdfc"
      },
      "source": [
        "tf.keras.utils.plot_model(model, show_shapes=True, rankdir='LR')"
      ],
      "execution_count": null,
      "outputs": []
    },
    {
      "cell_type": "markdown",
      "metadata": {
        "id": "R752ko6XqBX_",
        "colab_type": "text"
      },
      "source": [
        "下面指令，可看到目前所創建的網路結構的摘要資訊："
      ]
    },
    {
      "cell_type": "code",
      "metadata": {
        "id": "f7-l7ZHZQQ01",
        "colab_type": "code",
        "colab": {
          "base_uri": "https://localhost:8080/",
          "height": 399
        },
        "outputId": "0de29f92-260e-4df2-84dc-234c1c74aeaf"
      },
      "source": [
        "model.summary()"
      ],
      "execution_count": null,
      "outputs": []
    },
    {
      "cell_type": "markdown",
      "metadata": {
        "id": "1TjIk2bJ7XT1",
        "colab_type": "text"
      },
      "source": [
        "**Softmax 說明**\n",
        "\n",
        "> Softmax函數，是邏輯函數的一種擴充。它能將一個含任意實數的K維向量，「壓縮」到另一個K維實向量中，使得每一個元素的範圍都在(0,1)之間，並且所有元素的和為 1\n",
        "\n",
        "Softmax 公式\n",
        "\n",
        "> <img src=\"https://i.imgur.com/HoHPLCF.png\" width=\"200\">\n",
        "\n",
        "Softmax 例子\n",
        "\n",
        "> 輸入向量\n",
        "> \n",
        "> - [1, 2, 3, 4, 1, 2, 3]\n",
        "> \n",
        "> 對應的Softmax函數的值為\n",
        ">\n",
        "> - [0.024, 0.064, 0.175, 0.475, 0.024, 0.064, 0.175]\n",
        ">\n",
        "> 輸出向量中擁有最大權重的項對應著輸入向量中的最大值「4」。這也顯示了這個函數通常的意義：對向量進行標準化（歸一化），凸顯其中最大的值並抑制遠低於最大值的其他分量。"
      ]
    },
    {
      "cell_type": "markdown",
      "metadata": {
        "id": "hxxFYjy9TRbW",
        "colab_type": "text"
      },
      "source": [
        "模型編譯部分，使用 Categorical Crossentropy 做為損失函數，優化器為 Adam，並以預測準確率 (accuracy) 做為模型表現在衡量指標。  \n",
        "\n",
        "可視化優化器 - SGD / RMSProp  (Adam 是  RMSProp 的加強版) 資料來源  https://ruder.io/optimizing-gradient-descent/\n",
        "\n",
        "<img src=\"https://ruder.io/content/images/2016/09/contours_evaluation_optimizers.gif\" width=\"450\">\n",
        "\n",
        "<img src=\"https://ruder.io/content/images/2016/09/saddle_point_evaluation_optimizers.gif\" width=\"450\">"
      ]
    },
    {
      "cell_type": "code",
      "metadata": {
        "id": "NUiDgMj4QQ04",
        "colab_type": "code",
        "colab": {}
      },
      "source": [
        "model.compile(loss='categorical_crossentropy', optimizer = 'adam', metrics=['acc'])"
      ],
      "execution_count": null,
      "outputs": []
    },
    {
      "cell_type": "markdown",
      "metadata": {
        "id": "wyfKUzL4UHgL",
        "colab_type": "text"
      },
      "source": [
        "使用訓練集資料與訓練集類別標籤進行模型訓練，在訓練過程中並設定使用 20% 的資料做為驗證 (validation) 資料，進行交叉驗證。"
      ]
    },
    {
      "cell_type": "markdown",
      "metadata": {
        "id": "Hle7vqJ6q02_",
        "colab_type": "text"
      },
      "source": [
        "* x：設定學習資料，範例中設定訓練用的圖片資料陣列 train_x。    \n",
        "* y：設定答案資料，範例中設定訓練用的圖片答案資料陣列 train_y。   \n",
        "* batch_size：設定批次大小，範例中設定為 128。 \n",
        "* epochs：設定 epoch(= 學習次數)，範例中設定為 20。 \n",
        "* verbose：設定是否顯示日誌(0、1)，預設為 1。設定為 0 表示不在標準輸出顯示日誌。 \n",
        "* validation_split：設定驗證資料集比例，此比例表示要從訓練資料集中取百分之幾做為驗證資料集，用以測試所選參數用於該模型的效果，範例中設定為 0.2。 "
      ]
    },
    {
      "cell_type": "markdown",
      "metadata": {
        "id": "9GCk2VUurbR4",
        "colab_type": "text"
      },
      "source": [
        "<img src=\"https://i.imgur.com/S0j28qF.png\" width=\"600\">"
      ]
    },
    {
      "cell_type": "code",
      "metadata": {
        "id": "QWWE2uegQQ07",
        "colab_type": "code",
        "colab": {
          "base_uri": "https://localhost:8080/",
          "height": 711
        },
        "outputId": "fd084738-e387-4bf4-9c82-e6573b0468f9"
      },
      "source": [
        "history = model.fit(x=train_x, y=train_y, \n",
        "                    batch_size=128, epochs=20, \n",
        "                    verbose=1, validation_split=0.2)"
      ],
      "execution_count": null,
      "outputs": []
    },
    {
      "cell_type": "markdown",
      "metadata": {
        "id": "SBTyWVbFrlIT",
        "colab_type": "text"
      },
      "source": [
        "關於 **Overfitting**的說明\n",
        "\n",
        "<img src=\"https://i.imgur.com/p0lIi0G.png\" width=\"600\">\n",
        "<img src=\"https://i.imgur.com/3ryFn3Z.png\" width=\"600\">\n",
        "\n"
      ]
    },
    {
      "cell_type": "code",
      "metadata": {
        "id": "qimM3bbxVabB",
        "colab_type": "code",
        "colab": {
          "base_uri": "https://localhost:8080/",
          "height": 295
        },
        "outputId": "c2e46c39-208f-4b7d-d426-746d53f99049"
      },
      "source": [
        "plt.plot(history.history['acc'])\n",
        "plt.plot(history.history['val_acc'])\n",
        "plt.title('model accuracy')\n",
        "plt.ylabel('accuracy')\n",
        "plt.xlabel('epoch')\n",
        "plt.legend(['train', 'validation'], loc='upper left')\n",
        "plt.show()"
      ],
      "execution_count": null,
      "outputs": []
    },
    {
      "cell_type": "code",
      "metadata": {
        "id": "9s7UDHOSXH5Y",
        "colab_type": "code",
        "colab": {
          "base_uri": "https://localhost:8080/",
          "height": 295
        },
        "outputId": "973a966b-5118-4860-b2fd-e5d5d5826c0a"
      },
      "source": [
        "plt.plot(history.history['loss'])\n",
        "plt.plot(history.history['val_loss'])\n",
        "plt.title('model loss')\n",
        "plt.ylabel('loss')\n",
        "plt.xlabel('epoch')\n",
        "plt.legend(['train', 'validation'], loc='upper left')\n",
        "plt.show()"
      ],
      "execution_count": null,
      "outputs": []
    },
    {
      "cell_type": "markdown",
      "metadata": {
        "id": "OH4rpXrMUtNG",
        "colab_type": "text"
      },
      "source": [
        "## 5.測試與驗證準確率\n",
        "\n",
        "訓練結束後，使用測試資料集與測試集類別標籤評估訓練後的模型。"
      ]
    },
    {
      "cell_type": "code",
      "metadata": {
        "id": "NHrsgiEZQQ09",
        "colab_type": "code",
        "colab": {
          "base_uri": "https://localhost:8080/",
          "height": 52
        },
        "outputId": "89e52d3d-10d2-4712-94bd-18e7930a8d7a"
      },
      "source": [
        "model.evaluate(test_x, test_y)"
      ],
      "execution_count": null,
      "outputs": []
    },
    {
      "cell_type": "code",
      "execution_count": null,
      "metadata": {
        "colab_type": "text",
        "id": "YWO6pbI5ZWDG"
      },
      "outputs": [],
      "source": [
        "手動選擇一個圖片，查看預測結果是否正確。\n",
        "\n",
        "執行後在輸入框輸入任一個圖片編號 ($\\leq$ 35999，小於測試集的筆數中任一個數字)。"
      ]
    },
    {
      "cell_type": "code",
      "metadata": {
        "id": "TbTP7TqTQQ1B",
        "colab_type": "code",
        "colab": {
          "base_uri": "https://localhost:8080/",
          "height": 318
        },
        "outputId": "5f977ccb-b415-4ee5-8923-22bafe5658d8"
      },
      "source": [
        "test_no = int(input('please input photo number of test data: '))\n",
        "plt.imshow(test_x[test_no].reshape(28,28), cmap=\"gray\")\n",
        "\n",
        "print(f'it is {np.argmax(test_y[test_no])}')\n",
        "pred = model.predict_classes(test_x[test_no:test_no+1])\n",
        "print(f'predict it is {pred}')"
      ],
      "execution_count": null,
      "outputs": []
    },
    {
      "cell_type": "code",
      "metadata": {
        "id": "V413V8mzhpko",
        "colab_type": "code",
        "colab": {
          "base_uri": "https://localhost:8080/",
          "height": 318
        },
        "outputId": "d4729d01-2f70-4390-cfb4-56f0608b0f93"
      },
      "source": [
        "# dog_cat={0:'a dog', 1:'a cat'}\n",
        "dog_cat2 =['a dog', 'a cat']\n",
        "\n",
        "test_no = int(input('please input photo number of test data: '))\n",
        "plt.imshow(test_x[test_no].reshape(28,28), cmap=\"gray\")\n",
        "\n",
        "print(f'it is {dog_cat2[np.argmax(test_y[test_no])]}')\n",
        "pred = model.predict_classes(test_x[test_no:test_no+1])\n",
        "print(f'predict it is {dog_cat2[int(pred)]}')"
      ],
      "execution_count": null,
      "outputs": []
    },
    {
      "cell_type": "markdown",
      "metadata": {
        "id": "g4UgOQywD6IZ",
        "colab_type": "text"
      },
      "source": [
        "## 6. 修正過擬合 (Overfitting) 問題\n",
        "\n",
        "雖然在上面的訓練過程過後似乎得到不錯的預測準確率 (約98%)，但是從結果卻可以看出來我們的模型在針對訓練過程中沒有看過的資料 (例如驗證資料集validate set與測試資料集testing set) 時準確率就會有所下降 (約89%)，這個現象就是過擬合 (Overfitting) 問題。\n",
        "\n",
        "在下面的範例中，我們採用其中一種解決過擬合問題的技巧，在模型中加入正規化 (Regularization)，避免模型在訓練的過程中**死背**答案造成過擬合。"
      ]
    },
    {
      "cell_type": "code",
      "metadata": {
        "colab_type": "code",
        "id": "EptQV9w4QQ1E",
        "colab": {}
      },
      "source": [
        "model2 = tf.keras.models.Sequential([\n",
        "  tf.keras.layers.Conv2D(filters=32, kernel_size=(3,3), input_shape=(28,28,1), activation='relu'), \n",
        "  tf.keras.layers.MaxPooling2D(2,2),\n",
        "  tf.keras.layers.Dropout(0.2),\n",
        "  tf.keras.layers.Conv2D(64, (3,3), activation='relu'),\n",
        "  tf.keras.layers.MaxPooling2D(2,2),\n",
        "  tf.keras.layers.Dropout(0.2),\n",
        "  tf.keras.layers.Flatten(), \n",
        "  tf.keras.layers.Dense(128, activation='relu', kernel_regularizer=tf.keras.regularizers.l2(0.01)),\n",
        "  tf.keras.layers.Dropout(0.2),\n",
        "  tf.keras.layers.Dense(2, activation='softmax')\n",
        "])"
      ],
      "execution_count": null,
      "outputs": []
    },
    {
      "cell_type": "code",
      "metadata": {
        "id": "Rhriy0sFD6Ic",
        "colab_type": "code",
        "colab": {
          "base_uri": "https://localhost:8080/",
          "height": 513
        },
        "outputId": "d7c81aec-937b-48fc-bb25-3267234dc56a"
      },
      "source": [
        "model2.summary()"
      ],
      "execution_count": null,
      "outputs": []
    },
    {
      "cell_type": "code",
      "metadata": {
        "id": "N749VCDQD6Ie",
        "colab_type": "code",
        "colab": {
          "base_uri": "https://localhost:8080/",
          "height": 1000
        },
        "outputId": "dc21376d-0d73-48ec-a767-c36a7fc80643"
      },
      "source": [
        "model2.compile(loss='categorical_crossentropy', optimizer = 'adam', metrics=['acc'])\n",
        "history = model2.fit(x=train_x, y=train_y, batch_size=128, epochs=50, verbose=1, validation_split=0.2)"
      ],
      "execution_count": null,
      "outputs": []
    },
    {
      "cell_type": "markdown",
      "metadata": {
        "id": "9LpDIJtTO2pR",
        "colab_type": "text"
      },
      "source": [
        "從訓練及驗證的結果我們可以看到，隨著訓練的時間拉長，訓練及驗證的結果都有逐步改善，也沒有過擬合的現象，代表新的模型泛化 (generalization) 能力變強，遇到新的資料時預測能力會較好。"
      ]
    },
    {
      "cell_type": "code",
      "metadata": {
        "id": "SFXAuTDaD6If",
        "colab_type": "code",
        "colab": {
          "base_uri": "https://localhost:8080/",
          "height": 295
        },
        "outputId": "c026661e-6253-459e-ed56-66a565291b3d"
      },
      "source": [
        "plt.plot(history.history['acc'])\n",
        "plt.plot(history.history['val_acc'])\n",
        "plt.title('model accuracy')\n",
        "plt.ylabel('accuracy')\n",
        "plt.xlabel('epoch')\n",
        "plt.legend(['train', 'validation'], loc='upper left')\n",
        "plt.show()"
      ],
      "execution_count": null,
      "outputs": []
    },
    {
      "cell_type": "code",
      "metadata": {
        "id": "xCLeQmIeD6Ih",
        "colab_type": "code",
        "colab": {
          "base_uri": "https://localhost:8080/",
          "height": 295
        },
        "outputId": "7e2729d5-10af-4f7a-e8f8-d28487625f80"
      },
      "source": [
        "plt.plot(history.history['loss'])\n",
        "plt.plot(history.history['val_loss'])\n",
        "plt.title('model loss')\n",
        "plt.ylabel('loss')\n",
        "plt.xlabel('epoch')\n",
        "plt.legend(['train', 'validation'], loc='upper left')\n",
        "plt.show()"
      ],
      "execution_count": null,
      "outputs": []
    },
    {
      "cell_type": "code",
      "metadata": {
        "id": "SlcL6ULZD6Ij",
        "colab_type": "code",
        "colab": {
          "base_uri": "https://localhost:8080/",
          "height": 52
        },
        "outputId": "49817073-a54f-462f-f01d-beefc71a4125"
      },
      "source": [
        "model.evaluate(test_x, test_y)"
      ],
      "execution_count": null,
      "outputs": []
    }
  ]
}